{
 "cells": [
  {
   "cell_type": "code",
   "execution_count": 1,
   "metadata": {},
   "outputs": [],
   "source": [
    "import os\r\n",
    "import itk                                                                \r\n",
    "import itkwidgets\r\n",
    "import numpy as np\r\n",
    "import pandas as pd\r\n",
    "import nibabel as nib\r\n",
    "import seaborn as sns\r\n",
    "import matplotlib.pyplot as plt\r\n",
    "from ipywidgets import interact, interactive, IntSlider, ToggleButtons\r\n",
    "\r\n",
    "sns.set_style('darkgrid')"
   ]
  },
  {
   "cell_type": "code",
   "execution_count": 2,
   "metadata": {},
   "outputs": [],
   "source": [
    "root = 'NFBS_Dataset'\r\n",
    "file_name = None\r\n",
    "df = pd.DataFrame(columns=[\"skull\", \"brain\", \"mask\"])\r\n",
    "\r\n",
    "for folders in os.listdir(root):\r\n",
    "    files = [os.path.join(root, folders, file) for file in os.listdir(os.path.join(root, folders))]\r\n",
    "    df = df.append({\"skull\": files[0], \"brain\": files[1], \"mask\": files[2]}, ignore_index=True)\r\n"
   ]
  },
  {
   "cell_type": "code",
   "execution_count": 3,
   "metadata": {},
   "outputs": [
    {
     "data": {
      "text/html": [
       "<div>\n",
       "<style scoped>\n",
       "    .dataframe tbody tr th:only-of-type {\n",
       "        vertical-align: middle;\n",
       "    }\n",
       "\n",
       "    .dataframe tbody tr th {\n",
       "        vertical-align: top;\n",
       "    }\n",
       "\n",
       "    .dataframe thead th {\n",
       "        text-align: right;\n",
       "    }\n",
       "</style>\n",
       "<table border=\"1\" class=\"dataframe\">\n",
       "  <thead>\n",
       "    <tr style=\"text-align: right;\">\n",
       "      <th></th>\n",
       "      <th>skull</th>\n",
       "      <th>brain</th>\n",
       "      <th>mask</th>\n",
       "    </tr>\n",
       "  </thead>\n",
       "  <tbody>\n",
       "    <tr>\n",
       "      <th>0</th>\n",
       "      <td>NFBS_Dataset\\A00028185\\sub-A00028185_ses-NFB3_...</td>\n",
       "      <td>NFBS_Dataset\\A00028185\\sub-A00028185_ses-NFB3_...</td>\n",
       "      <td>NFBS_Dataset\\A00028185\\sub-A00028185_ses-NFB3_...</td>\n",
       "    </tr>\n",
       "    <tr>\n",
       "      <th>1</th>\n",
       "      <td>NFBS_Dataset\\A00028352\\sub-A00028352_ses-NFB3_...</td>\n",
       "      <td>NFBS_Dataset\\A00028352\\sub-A00028352_ses-NFB3_...</td>\n",
       "      <td>NFBS_Dataset\\A00028352\\sub-A00028352_ses-NFB3_...</td>\n",
       "    </tr>\n",
       "    <tr>\n",
       "      <th>2</th>\n",
       "      <td>NFBS_Dataset\\A00032875\\sub-A00032875_ses-NFB3_...</td>\n",
       "      <td>NFBS_Dataset\\A00032875\\sub-A00032875_ses-NFB3_...</td>\n",
       "      <td>NFBS_Dataset\\A00032875\\sub-A00032875_ses-NFB3_...</td>\n",
       "    </tr>\n",
       "    <tr>\n",
       "      <th>3</th>\n",
       "      <td>NFBS_Dataset\\A00033747\\sub-A00033747_ses-NFB3_...</td>\n",
       "      <td>NFBS_Dataset\\A00033747\\sub-A00033747_ses-NFB3_...</td>\n",
       "      <td>NFBS_Dataset\\A00033747\\sub-A00033747_ses-NFB3_...</td>\n",
       "    </tr>\n",
       "    <tr>\n",
       "      <th>4</th>\n",
       "      <td>NFBS_Dataset\\A00034854\\sub-A00034854_ses-NFB3_...</td>\n",
       "      <td>NFBS_Dataset\\A00034854\\sub-A00034854_ses-NFB3_...</td>\n",
       "      <td>NFBS_Dataset\\A00034854\\sub-A00034854_ses-NFB3_...</td>\n",
       "    </tr>\n",
       "    <tr>\n",
       "      <th>5</th>\n",
       "      <td>NFBS_Dataset\\A00035072\\sub-A00035072_ses-NFB3_...</td>\n",
       "      <td>NFBS_Dataset\\A00035072\\sub-A00035072_ses-NFB3_...</td>\n",
       "      <td>NFBS_Dataset\\A00035072\\sub-A00035072_ses-NFB3_...</td>\n",
       "    </tr>\n",
       "    <tr>\n",
       "      <th>6</th>\n",
       "      <td>NFBS_Dataset\\A00035827\\sub-A00035827_ses-NFB3_...</td>\n",
       "      <td>NFBS_Dataset\\A00035827\\sub-A00035827_ses-NFB3_...</td>\n",
       "      <td>NFBS_Dataset\\A00035827\\sub-A00035827_ses-NFB3_...</td>\n",
       "    </tr>\n",
       "    <tr>\n",
       "      <th>7</th>\n",
       "      <td>NFBS_Dataset\\A00035840\\sub-A00035840_ses-NFB3_...</td>\n",
       "      <td>NFBS_Dataset\\A00035840\\sub-A00035840_ses-NFB3_...</td>\n",
       "      <td>NFBS_Dataset\\A00035840\\sub-A00035840_ses-NFB3_...</td>\n",
       "    </tr>\n",
       "    <tr>\n",
       "      <th>8</th>\n",
       "      <td>NFBS_Dataset\\A00037112\\sub-A00037112_ses-NFB3_...</td>\n",
       "      <td>NFBS_Dataset\\A00037112\\sub-A00037112_ses-NFB3_...</td>\n",
       "      <td>NFBS_Dataset\\A00037112\\sub-A00037112_ses-NFB3_...</td>\n",
       "    </tr>\n",
       "    <tr>\n",
       "      <th>9</th>\n",
       "      <td>NFBS_Dataset\\A00037511\\sub-A00037511_ses-NFB3_...</td>\n",
       "      <td>NFBS_Dataset\\A00037511\\sub-A00037511_ses-NFB3_...</td>\n",
       "      <td>NFBS_Dataset\\A00037511\\sub-A00037511_ses-NFB3_...</td>\n",
       "    </tr>\n",
       "  </tbody>\n",
       "</table>\n",
       "</div>"
      ],
      "text/plain": [
       "                                               skull  \\\n",
       "0  NFBS_Dataset\\A00028185\\sub-A00028185_ses-NFB3_...   \n",
       "1  NFBS_Dataset\\A00028352\\sub-A00028352_ses-NFB3_...   \n",
       "2  NFBS_Dataset\\A00032875\\sub-A00032875_ses-NFB3_...   \n",
       "3  NFBS_Dataset\\A00033747\\sub-A00033747_ses-NFB3_...   \n",
       "4  NFBS_Dataset\\A00034854\\sub-A00034854_ses-NFB3_...   \n",
       "5  NFBS_Dataset\\A00035072\\sub-A00035072_ses-NFB3_...   \n",
       "6  NFBS_Dataset\\A00035827\\sub-A00035827_ses-NFB3_...   \n",
       "7  NFBS_Dataset\\A00035840\\sub-A00035840_ses-NFB3_...   \n",
       "8  NFBS_Dataset\\A00037112\\sub-A00037112_ses-NFB3_...   \n",
       "9  NFBS_Dataset\\A00037511\\sub-A00037511_ses-NFB3_...   \n",
       "\n",
       "                                               brain  \\\n",
       "0  NFBS_Dataset\\A00028185\\sub-A00028185_ses-NFB3_...   \n",
       "1  NFBS_Dataset\\A00028352\\sub-A00028352_ses-NFB3_...   \n",
       "2  NFBS_Dataset\\A00032875\\sub-A00032875_ses-NFB3_...   \n",
       "3  NFBS_Dataset\\A00033747\\sub-A00033747_ses-NFB3_...   \n",
       "4  NFBS_Dataset\\A00034854\\sub-A00034854_ses-NFB3_...   \n",
       "5  NFBS_Dataset\\A00035072\\sub-A00035072_ses-NFB3_...   \n",
       "6  NFBS_Dataset\\A00035827\\sub-A00035827_ses-NFB3_...   \n",
       "7  NFBS_Dataset\\A00035840\\sub-A00035840_ses-NFB3_...   \n",
       "8  NFBS_Dataset\\A00037112\\sub-A00037112_ses-NFB3_...   \n",
       "9  NFBS_Dataset\\A00037511\\sub-A00037511_ses-NFB3_...   \n",
       "\n",
       "                                                mask  \n",
       "0  NFBS_Dataset\\A00028185\\sub-A00028185_ses-NFB3_...  \n",
       "1  NFBS_Dataset\\A00028352\\sub-A00028352_ses-NFB3_...  \n",
       "2  NFBS_Dataset\\A00032875\\sub-A00032875_ses-NFB3_...  \n",
       "3  NFBS_Dataset\\A00033747\\sub-A00033747_ses-NFB3_...  \n",
       "4  NFBS_Dataset\\A00034854\\sub-A00034854_ses-NFB3_...  \n",
       "5  NFBS_Dataset\\A00035072\\sub-A00035072_ses-NFB3_...  \n",
       "6  NFBS_Dataset\\A00035827\\sub-A00035827_ses-NFB3_...  \n",
       "7  NFBS_Dataset\\A00035840\\sub-A00035840_ses-NFB3_...  \n",
       "8  NFBS_Dataset\\A00037112\\sub-A00037112_ses-NFB3_...  \n",
       "9  NFBS_Dataset\\A00037511\\sub-A00037511_ses-NFB3_...  "
      ]
     },
     "execution_count": 3,
     "metadata": {},
     "output_type": "execute_result"
    }
   ],
   "source": [
    "df.head(10)"
   ]
  },
  {
   "cell_type": "code",
   "execution_count": 4,
   "metadata": {},
   "outputs": [
    {
     "data": {
      "text/plain": [
       "125"
      ]
     },
     "execution_count": 4,
     "metadata": {},
     "output_type": "execute_result"
    }
   ],
   "source": [
    "len(df)"
   ]
  },
  {
   "cell_type": "code",
   "execution_count": 38,
   "metadata": {},
   "outputs": [],
   "source": [
    "img = nib.load(df[\"skull\"][0])"
   ]
  },
  {
   "cell_type": "code",
   "execution_count": 39,
   "metadata": {},
   "outputs": [],
   "source": [
    "image = img.get_fdata()"
   ]
  },
  {
   "cell_type": "code",
   "execution_count": 40,
   "metadata": {},
   "outputs": [
    {
     "name": "stdout",
     "output_type": "stream",
     "text": [
      "H: 256 W: 256 D: 192 C: 1\n"
     ]
    }
   ],
   "source": [
    "height, width, depth = image.shape\r\n",
    "channels = 1\r\n",
    "image = np.expand_dims(image, axis=3)\r\n",
    "print(f\"H: {height} W: {width} D: {depth} C: {channels}\")"
   ]
  },
  {
   "cell_type": "code",
   "execution_count": 45,
   "metadata": {},
   "outputs": [],
   "source": [
    "images = []\r\n",
    "\r\n",
    "for file in df.loc[0]:\r\n",
    "    image = nib.load(file).get_fdata()\r\n",
    "    images.append(np.expand_dims(image, axis=3))"
   ]
  },
  {
   "cell_type": "code",
   "execution_count": 52,
   "metadata": {},
   "outputs": [
    {
     "data": {
      "application/vnd.jupyter.widget-view+json": {
       "model_id": "1a481b89f52e4ec0980fd50830eb8181",
       "version_major": 2,
       "version_minor": 0
      },
      "text/plain": [
       "interactive(children=(IntSlider(value=95, description='depth', max=191), Output()), _dom_classes=('widget-inte…"
      ]
     },
     "metadata": {},
     "output_type": "display_data"
    }
   ],
   "source": [
    "def explore_3dimage(depth):\r\n",
    "    plt.figure(figsize=(10, 5))\r\n",
    "    labels = [\"MRI - Skull Layers\", \"Skull Stripped Brain Layers\", \"Mask Layers\"]\r\n",
    "    for i, image in enumerate(images):\r\n",
    "        plt.subplot(1, len(images), i+1)\r\n",
    "        plt.imshow(image[:, :, depth, :], cmap='gray')\r\n",
    "        plt.title(labels[i])\r\n",
    "        plt.axis('off')\r\n",
    "\r\n",
    "interact(explore_3dimage, depth=(0, 191));"
   ]
  },
  {
   "cell_type": "code",
   "execution_count": 10,
   "metadata": {},
   "outputs": [],
   "source": [
    "df.to_csv(\"NFBS_Dataset_meta.csv\", index=False)"
   ]
  }
 ],
 "metadata": {
  "interpreter": {
   "hash": "0600588c3b5f4418cbe7b5ebc6825b479f3bc010269d8b60d75058cdd010adfe"
  },
  "kernelspec": {
   "display_name": "Python 3.7.5 64-bit",
   "name": "python3"
  },
  "language_info": {
   "codemirror_mode": {
    "name": "ipython",
    "version": 3
   },
   "file_extension": ".py",
   "mimetype": "text/x-python",
   "name": "python",
   "nbconvert_exporter": "python",
   "pygments_lexer": "ipython3",
   "version": "3.7.5"
  },
  "orig_nbformat": 4
 },
 "nbformat": 4,
 "nbformat_minor": 2
}