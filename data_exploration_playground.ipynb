{
 "cells": [
  {
   "cell_type": "code",
   "execution_count": 1,
   "metadata": {},
   "outputs": [],
   "source": [
    "import os\r\n",
    "import itk                                                                \r\n",
    "import itkwidgets\r\n",
    "import numpy as np\r\n",
    "import pandas as pd\r\n",
    "import nibabel as nib\r\n",
    "import seaborn as sns\r\n",
    "import matplotlib.pyplot as plt\r\n",
    "from ipywidgets import interact, interactive, IntSlider, ToggleButtons\r\n",
    "\r\n",
    "sns.set_style('darkgrid')"
   ]
  },
  {
   "cell_type": "code",
   "execution_count": 2,
   "metadata": {},
   "outputs": [],
   "source": [
    "df = pd.read_csv(\"NFBS_Dataset_meta.csv\")"
   ]
  },
  {
   "cell_type": "code",
   "execution_count": 3,
   "metadata": {},
   "outputs": [],
   "source": [
    "def get_image_slider(row):\r\n",
    "    images = []\r\n",
    "\r\n",
    "    for file in row:\r\n",
    "        image = nib.load(file).get_fdata()\r\n",
    "        images.append(np.expand_dims(image, axis=3))\r\n",
    "    \r\n",
    "    def explore_3dimage(depth):\r\n",
    "        plt.figure(figsize=(10, 5))\r\n",
    "        labels = [\"MRI - Skull Layers\", \"Skull Stripped Brain Layers\", \"Mask Layers\"]\r\n",
    "        for i, image in enumerate(images):\r\n",
    "            plt.subplot(1, len(images), i+1)\r\n",
    "            plt.imshow(image[:, :, depth, :], cmap='gray')\r\n",
    "            plt.title(labels[i])\r\n",
    "            plt.axis('off')\r\n",
    "\r\n",
    "    interact(explore_3dimage, depth=(0, images[0].shape[2] - 1));"
   ]
  },
  {
   "cell_type": "code",
   "execution_count": 4,
   "metadata": {},
   "outputs": [
    {
     "data": {
      "application/vnd.jupyter.widget-view+json": {
       "model_id": "a17a35d35f034c568b22c1839807ef34",
       "version_major": 2,
       "version_minor": 0
      },
      "text/plain": [
       "interactive(children=(IntSlider(value=95, description='depth', max=191), Output()), _dom_classes=('widget-inte…"
      ]
     },
     "metadata": {},
     "output_type": "display_data"
    }
   ],
   "source": [
    "get_image_slider(df.loc[0])"
   ]
  },
  {
   "cell_type": "code",
   "execution_count": 5,
   "metadata": {},
   "outputs": [
    {
     "data": {
      "application/vnd.jupyter.widget-view+json": {
       "model_id": "4a720c20fb464d26b4fd1a0d7a23ef60",
       "version_major": 2,
       "version_minor": 0
      },
      "text/plain": [
       "interactive(children=(IntSlider(value=95, description='depth', max=191), Output()), _dom_classes=('widget-inte…"
      ]
     },
     "metadata": {},
     "output_type": "display_data"
    }
   ],
   "source": [
    "get_image_slider(df.loc[10])"
   ]
  },
  {
   "cell_type": "code",
   "execution_count": 6,
   "metadata": {},
   "outputs": [
    {
     "data": {
      "application/vnd.jupyter.widget-view+json": {
       "model_id": "12b2a9c0809a4c94952ae5adfe2f80a3",
       "version_major": 2,
       "version_minor": 0
      },
      "text/plain": [
       "interactive(children=(IntSlider(value=95, description='depth', max=191), Output()), _dom_classes=('widget-inte…"
      ]
     },
     "metadata": {},
     "output_type": "display_data"
    }
   ],
   "source": [
    "get_image_slider(df.loc[124])"
   ]
  },
  {
   "cell_type": "code",
   "execution_count": 7,
   "metadata": {},
   "outputs": [],
   "source": [
    "def z_score(img, mask=None):\r\n",
    "    img_data = img.get_fdata()\r\n",
    "    if mask is not None and not isinstance(mask, str):\r\n",
    "        mask_data = mask.get_fdata()\r\n",
    "    else:\r\n",
    "        mask_data = img_data == img_data\r\n",
    "    logical_mask = mask_data > 0.  \r\n",
    "    mean = img_data[logical_mask].mean()\r\n",
    "    std = img_data[logical_mask].std()\r\n",
    "    normalized = nib.Nifti1Image((img_data - mean) / std, img.affine, img.header)\r\n",
    "    return normalized"
   ]
  },
  {
   "cell_type": "code",
   "execution_count": 8,
   "metadata": {},
   "outputs": [],
   "source": [
    "def visualize_norm_and_unnorm_images(img, mask=None, preprocess=z_score):\r\n",
    "    img = nib.load(img)\r\n",
    "    mask = nib.load(mask) if mask is not None else None\r\n",
    "\r\n",
    "    norm_img = np.expand_dims(preprocess(img, mask).get_fdata(), axis=3)\r\n",
    "    img = np.expand_dims(img.get_fdata(), axis=3)\r\n",
    "\r\n",
    "    def explore_3dimage(depth):\r\n",
    "        plt.figure(figsize=(10, 5))\r\n",
    "        \r\n",
    "        plt.subplot(1, 2, 1)\r\n",
    "        plt.imshow(img[:, :, depth, :], cmap='gray')\r\n",
    "        plt.title(\"Unnormalized Image\")\r\n",
    "        plt.axis('off')\r\n",
    "\r\n",
    "        plt.subplot(1, 2, 2)\r\n",
    "        plt.imshow(norm_img[:, :, depth, :], cmap='gray')\r\n",
    "        plt.title(\"Intensity Normalized Image\")\r\n",
    "\r\n",
    "        plt.axis('off')\r\n",
    "\r\n",
    "    interact(explore_3dimage, depth=(0, img.shape[2] - 1));"
   ]
  },
  {
   "cell_type": "code",
   "execution_count": 9,
   "metadata": {},
   "outputs": [
    {
     "data": {
      "application/vnd.jupyter.widget-view+json": {
       "model_id": "931438b3bd4b43baabf8e0404fd791cc",
       "version_major": 2,
       "version_minor": 0
      },
      "text/plain": [
       "interactive(children=(IntSlider(value=95, description='depth', max=191), Output()), _dom_classes=('widget-inte…"
      ]
     },
     "metadata": {},
     "output_type": "display_data"
    }
   ],
   "source": [
    "visualize_norm_and_unnorm_images(df['skull'][0])"
   ]
  },
  {
   "cell_type": "code",
   "execution_count": 10,
   "metadata": {},
   "outputs": [
    {
     "data": {
      "application/vnd.jupyter.widget-view+json": {
       "model_id": "8e2d26cd26b444f692fb68b082114224",
       "version_major": 2,
       "version_minor": 0
      },
      "text/plain": [
       "interactive(children=(IntSlider(value=95, description='depth', max=191), Output()), _dom_classes=('widget-inte…"
      ]
     },
     "metadata": {},
     "output_type": "display_data"
    }
   ],
   "source": [
    "from intensity_normalization.normalize.kde import kde_normalize\r\n",
    "visualize_norm_and_unnorm_images(df['skull'][0], preprocess=kde_normalize)"
   ]
  },
  {
   "cell_type": "code",
   "execution_count": 11,
   "metadata": {},
   "outputs": [],
   "source": [
    "def plot_single_image(img):\r\n",
    "    img = nib.load(img)\r\n",
    "    \r\n",
    "    def explore_3dimage(depth):\r\n",
    "        plt.figure(figsize=(10, 5))\r\n",
    "        \r\n",
    "        plt.subplot(1, 1, 1)\r\n",
    "        plt.imshow(np.expand_dims(img.get_fdata(), axis=3)[:, :, depth, :], cmap='gray')\r\n",
    "        plt.title(\"MRI\")\r\n",
    "        plt.axis('off')\r\n",
    "\r\n",
    "    interact(explore_3dimage, depth=(0, img.shape[2] - 1));"
   ]
  },
  {
   "cell_type": "code",
   "execution_count": 12,
   "metadata": {},
   "outputs": [
    {
     "data": {
      "application/vnd.jupyter.widget-view+json": {
       "model_id": "812d14cdbe2140e0bdfee5c368d09ce3",
       "version_major": 2,
       "version_minor": 0
      },
      "text/plain": [
       "interactive(children=(IntSlider(value=127, description='depth', max=255), Output()), _dom_classes=('widget-int…"
      ]
     },
     "metadata": {},
     "output_type": "display_data"
    }
   ],
   "source": [
    "plot_single_image('T1Img/sub-01/T1w.nii.gz')"
   ]
  },
  {
   "cell_type": "code",
   "execution_count": 13,
   "metadata": {},
   "outputs": [
    {
     "data": {
      "application/vnd.jupyter.widget-view+json": {
       "model_id": "d9bb802f01f64d29a217aa707aa958a5",
       "version_major": 2,
       "version_minor": 0
      },
      "text/plain": [
       "interactive(children=(IntSlider(value=127, description='depth', max=255), Output()), _dom_classes=('widget-int…"
      ]
     },
     "metadata": {},
     "output_type": "display_data"
    }
   ],
   "source": [
    "plot_single_image('T1Img/sub-02/anat_img.nii.gz')"
   ]
  },
  {
   "cell_type": "code",
   "execution_count": 14,
   "metadata": {},
   "outputs": [
    {
     "data": {
      "application/vnd.jupyter.widget-view+json": {
       "model_id": "8b7c44a2f9d44551a60049f7b492b1ed",
       "version_major": 2,
       "version_minor": 0
      },
      "text/plain": [
       "interactive(children=(IntSlider(value=95, description='depth', max=191), Output()), _dom_classes=('widget-inte…"
      ]
     },
     "metadata": {},
     "output_type": "display_data"
    }
   ],
   "source": [
    "plot_single_image(df['skull'][0])"
   ]
  },
  {
   "cell_type": "code",
   "execution_count": 15,
   "metadata": {},
   "outputs": [
    {
     "data": {
      "application/vnd.jupyter.widget-view+json": {
       "model_id": "8027bf831b584963b1475d91223de5ac",
       "version_major": 2,
       "version_minor": 0
      },
      "text/plain": [
       "interactive(children=(IntSlider(value=95, description='depth', max=191), Output()), _dom_classes=('widget-inte…"
      ]
     },
     "metadata": {},
     "output_type": "display_data"
    }
   ],
   "source": [
    "plot_single_image(df['brain'][124])"
   ]
  },
  {
   "cell_type": "code",
   "execution_count": 16,
   "metadata": {},
   "outputs": [
    {
     "data": {
      "application/vnd.jupyter.widget-view+json": {
       "model_id": "4a37a35e310e41d199bef140c4f36e20",
       "version_major": 2,
       "version_minor": 0
      },
      "text/plain": [
       "interactive(children=(IntSlider(value=82, description='depth', max=165), Output()), _dom_classes=('widget-inte…"
      ]
     },
     "metadata": {},
     "output_type": "display_data"
    }
   ],
   "source": [
    "plot_single_image('T1Img/sub-05/T1w MRI.nii')"
   ]
  },
  {
   "cell_type": "code",
   "execution_count": 17,
   "metadata": {},
   "outputs": [
    {
     "data": {
      "application/vnd.jupyter.widget-view+json": {
       "model_id": "af569494a4c5414b8d0b990e3c3437a2",
       "version_major": 2,
       "version_minor": 0
      },
      "text/plain": [
       "interactive(children=(IntSlider(value=95, description='depth', max=191), Output()), _dom_classes=('widget-inte…"
      ]
     },
     "metadata": {},
     "output_type": "display_data"
    }
   ],
   "source": [
    "plot_single_image('mask.nii.gz')"
   ]
  },
  {
   "cell_type": "code",
   "execution_count": 18,
   "metadata": {},
   "outputs": [
    {
     "data": {
      "application/vnd.jupyter.widget-view+json": {
       "model_id": "7b40e8dccd9942f79f064aacc17ce96e",
       "version_major": 2,
       "version_minor": 0
      },
      "text/plain": [
       "interactive(children=(IntSlider(value=95, description='depth', max=191), Output()), _dom_classes=('widget-inte…"
      ]
     },
     "metadata": {},
     "output_type": "display_data"
    }
   ],
   "source": [
    "plot_single_image('bias_corrected_image.nii.gz')"
   ]
  },
  {
   "cell_type": "code",
   "execution_count": 19,
   "metadata": {},
   "outputs": [
    {
     "data": {
      "application/vnd.jupyter.widget-view+json": {
       "model_id": "3dd1d1a86d4e4af1abc08fd2cd143e41",
       "version_major": 2,
       "version_minor": 0
      },
      "text/plain": [
       "interactive(children=(IntSlider(value=95, description='depth', max=191), Output()), _dom_classes=('widget-inte…"
      ]
     },
     "metadata": {},
     "output_type": "display_data"
    }
   ],
   "source": [
    "plot_single_image(df['skull'][0])"
   ]
  }
 ],
 "metadata": {
  "interpreter": {
   "hash": "0600588c3b5f4418cbe7b5ebc6825b479f3bc010269d8b60d75058cdd010adfe"
  },
  "kernelspec": {
   "display_name": "Python 3.7.5 64-bit",
   "name": "python3"
  },
  "language_info": {
   "codemirror_mode": {
    "name": "ipython",
    "version": 3
   },
   "file_extension": ".py",
   "mimetype": "text/x-python",
   "name": "python",
   "nbconvert_exporter": "python",
   "pygments_lexer": "ipython3",
   "version": "3.7.5"
  },
  "orig_nbformat": 4
 },
 "nbformat": 4,
 "nbformat_minor": 2
}