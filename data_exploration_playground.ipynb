{
 "cells": [
  {
   "cell_type": "code",
   "execution_count": 1,
   "metadata": {},
   "outputs": [],
   "source": [
    "import os\r\n",
    "import itk                                                                \r\n",
    "import itkwidgets\r\n",
    "import numpy as np\r\n",
    "import pandas as pd\r\n",
    "import nibabel as nib\r\n",
    "import seaborn as sns\r\n",
    "import matplotlib.pyplot as plt\r\n",
    "from ipywidgets import interact, interactive, IntSlider, ToggleButtons\r\n",
    "\r\n",
    "sns.set_style('darkgrid')"
   ]
  },
  {
   "cell_type": "code",
   "execution_count": 2,
   "metadata": {},
   "outputs": [],
   "source": [
    "df = pd.read_csv(\"NFBS_Dataset_meta.csv\")"
   ]
  },
  {
   "cell_type": "code",
   "execution_count": 3,
   "metadata": {},
   "outputs": [],
   "source": [
    "def get_image_slider(row):\r\n",
    "    images = []\r\n",
    "\r\n",
    "    for file in row:\r\n",
    "        image = nib.load(file).get_fdata()\r\n",
    "        images.append(np.expand_dims(image, axis=3))\r\n",
    "    \r\n",
    "    def explore_3dimage(depth):\r\n",
    "        plt.figure(figsize=(10, 5))\r\n",
    "        labels = [\"MRI - Skull Layers\", \"Skull Stripped Brain Layers\", \"Mask Layers\"]\r\n",
    "        for i, image in enumerate(images):\r\n",
    "            plt.subplot(1, len(images), i+1)\r\n",
    "            plt.imshow(image[:, :, depth, :], cmap='gray')\r\n",
    "            plt.title(labels[i])\r\n",
    "            plt.axis('off')\r\n",
    "\r\n",
    "    interact(explore_3dimage, depth=(0, images[0].shape[2] - 1));"
   ]
  },
  {
   "cell_type": "code",
   "execution_count": 4,
   "metadata": {},
   "outputs": [
    {
     "data": {
      "application/vnd.jupyter.widget-view+json": {
       "model_id": "849c21c1f0164f5e8e2cd3ec24757ae2",
       "version_major": 2,
       "version_minor": 0
      },
      "text/plain": [
       "interactive(children=(IntSlider(value=95, description='depth', max=191), Output()), _dom_classes=('widget-inte…"
      ]
     },
     "metadata": {},
     "output_type": "display_data"
    }
   ],
   "source": [
    "get_image_slider(df.loc[0])"
   ]
  },
  {
   "cell_type": "code",
   "execution_count": 5,
   "metadata": {},
   "outputs": [
    {
     "data": {
      "application/vnd.jupyter.widget-view+json": {
       "model_id": "22e03a0860174ce9bb76636c52406c31",
       "version_major": 2,
       "version_minor": 0
      },
      "text/plain": [
       "interactive(children=(IntSlider(value=95, description='depth', max=191), Output()), _dom_classes=('widget-inte…"
      ]
     },
     "metadata": {},
     "output_type": "display_data"
    }
   ],
   "source": [
    "get_image_slider(df.loc[10])"
   ]
  },
  {
   "cell_type": "code",
   "execution_count": 6,
   "metadata": {},
   "outputs": [
    {
     "data": {
      "application/vnd.jupyter.widget-view+json": {
       "model_id": "4b58419e7a90406686ebe91bdad40539",
       "version_major": 2,
       "version_minor": 0
      },
      "text/plain": [
       "interactive(children=(IntSlider(value=95, description='depth', max=191), Output()), _dom_classes=('widget-inte…"
      ]
     },
     "metadata": {},
     "output_type": "display_data"
    }
   ],
   "source": [
    "get_image_slider(df.loc[124])"
   ]
  },
  {
   "cell_type": "code",
   "execution_count": 7,
   "metadata": {},
   "outputs": [],
   "source": [
    "def z_score(img, mask=None):\r\n",
    "    img_data = img.get_fdata()\r\n",
    "    if mask is not None and not isinstance(mask, str):\r\n",
    "        mask_data = mask.get_fdata()\r\n",
    "    else:\r\n",
    "        mask_data = img_data == img_data\r\n",
    "    logical_mask = mask_data > 0.  \r\n",
    "    mean = img_data[logical_mask].mean()\r\n",
    "    std = img_data[logical_mask].std()\r\n",
    "    normalized = nib.Nifti1Image((img_data - mean) / std, img.affine, img.header)\r\n",
    "    return normalized"
   ]
  },
  {
   "cell_type": "code",
   "execution_count": 8,
   "metadata": {},
   "outputs": [],
   "source": [
    "def visualize_norm_and_unnorm_images(img, mask=None, preprocess=z_score):\r\n",
    "    img = nib.load(img)\r\n",
    "    mask = nib.load(mask) if mask is not None else None\r\n",
    "\r\n",
    "    norm_img = np.expand_dims(preprocess(img, mask).get_fdata(), axis=3)\r\n",
    "    img = np.expand_dims(img.get_fdata(), axis=3)\r\n",
    "\r\n",
    "    def explore_3dimage(depth):\r\n",
    "        plt.figure(figsize=(10, 5))\r\n",
    "        \r\n",
    "        plt.subplot(1, 2, 1)\r\n",
    "        plt.imshow(img[:, :, depth, :], cmap='gray')\r\n",
    "        plt.title(\"Unnormalized Image\")\r\n",
    "        plt.axis('off')\r\n",
    "\r\n",
    "        plt.subplot(1, 2, 2)\r\n",
    "        plt.imshow(norm_img[:, :, depth, :], cmap='gray')\r\n",
    "        plt.title(\"Intensity Normalized Image\")\r\n",
    "\r\n",
    "        plt.axis('off')\r\n",
    "\r\n",
    "    interact(explore_3dimage, depth=(0, img.shape[2] - 1));"
   ]
  },
  {
   "cell_type": "code",
   "execution_count": 9,
   "metadata": {},
   "outputs": [
    {
     "data": {
      "application/vnd.jupyter.widget-view+json": {
       "model_id": "c1f005556e7149758bff67c260785324",
       "version_major": 2,
       "version_minor": 0
      },
      "text/plain": [
       "interactive(children=(IntSlider(value=95, description='depth', max=191), Output()), _dom_classes=('widget-inte…"
      ]
     },
     "metadata": {},
     "output_type": "display_data"
    }
   ],
   "source": [
    "visualize_norm_and_unnorm_images(df['skull'][0])"
   ]
  },
  {
   "cell_type": "code",
   "execution_count": 10,
   "metadata": {},
   "outputs": [
    {
     "data": {
      "application/vnd.jupyter.widget-view+json": {
       "model_id": "ba07acd4d2174e509bfacadbbdc4f760",
       "version_major": 2,
       "version_minor": 0
      },
      "text/plain": [
       "interactive(children=(IntSlider(value=95, description='depth', max=191), Output()), _dom_classes=('widget-inte…"
      ]
     },
     "metadata": {},
     "output_type": "display_data"
    }
   ],
   "source": [
    "from intensity_normalization.normalize.kde import kde_normalize\r\n",
    "visualize_norm_and_unnorm_images(df['skull'][0], preprocess=kde_normalize)"
   ]
  },
  {
   "cell_type": "code",
   "execution_count": 11,
   "metadata": {},
   "outputs": [],
   "source": [
    "def plot_single_image(img):\r\n",
    "    img = nib.load(img)\r\n",
    "    \r\n",
    "    def explore_3dimage(depth):\r\n",
    "        plt.figure(figsize=(10, 5))\r\n",
    "        \r\n",
    "        plt.subplot(1, 1, 1)\r\n",
    "        plt.imshow(np.expand_dims(img.get_fdata(), axis=3)[:, :, depth, :], cmap='gray')\r\n",
    "        plt.title(\"MRI\")\r\n",
    "        plt.axis('off')\r\n",
    "\r\n",
    "    interact(explore_3dimage, depth=(0, img.shape[2] - 1));"
   ]
  },
  {
   "cell_type": "code",
   "execution_count": 12,
   "metadata": {},
   "outputs": [
    {
     "data": {
      "application/vnd.jupyter.widget-view+json": {
       "model_id": "a8aee338b5fa446db861f239b0c6ff87",
       "version_major": 2,
       "version_minor": 0
      },
      "text/plain": [
       "interactive(children=(IntSlider(value=127, description='depth', max=255), Output()), _dom_classes=('widget-int…"
      ]
     },
     "metadata": {},
     "output_type": "display_data"
    }
   ],
   "source": [
    "plot_single_image('T1Img/sub-01/T1w.nii.gz')"
   ]
  },
  {
   "cell_type": "code",
   "execution_count": 13,
   "metadata": {},
   "outputs": [
    {
     "data": {
      "application/vnd.jupyter.widget-view+json": {
       "model_id": "c09e17fd16e446c6a67ff8863953201c",
       "version_major": 2,
       "version_minor": 0
      },
      "text/plain": [
       "interactive(children=(IntSlider(value=127, description='depth', max=255), Output()), _dom_classes=('widget-int…"
      ]
     },
     "metadata": {},
     "output_type": "display_data"
    }
   ],
   "source": [
    "plot_single_image('T1Img/sub-02/anat_img.nii.gz')"
   ]
  },
  {
   "cell_type": "code",
   "execution_count": 14,
   "metadata": {},
   "outputs": [
    {
     "data": {
      "application/vnd.jupyter.widget-view+json": {
       "model_id": "7d31599a65664fb5bcec339ea0592373",
       "version_major": 2,
       "version_minor": 0
      },
      "text/plain": [
       "interactive(children=(IntSlider(value=95, description='depth', max=191), Output()), _dom_classes=('widget-inte…"
      ]
     },
     "metadata": {},
     "output_type": "display_data"
    }
   ],
   "source": [
    "plot_single_image(df['skull'][0])"
   ]
  },
  {
   "cell_type": "code",
   "execution_count": 15,
   "metadata": {},
   "outputs": [
    {
     "data": {
      "application/vnd.jupyter.widget-view+json": {
       "model_id": "1d078c96a712475e9d68fd83b9ca55df",
       "version_major": 2,
       "version_minor": 0
      },
      "text/plain": [
       "interactive(children=(IntSlider(value=95, description='depth', max=191), Output()), _dom_classes=('widget-inte…"
      ]
     },
     "metadata": {},
     "output_type": "display_data"
    }
   ],
   "source": [
    "plot_single_image(df['brain'][0])"
   ]
  },
  {
   "cell_type": "code",
   "execution_count": 16,
   "metadata": {},
   "outputs": [
    {
     "data": {
      "application/vnd.jupyter.widget-view+json": {
       "model_id": "cd8268064dac44e89adcc4c67613d92a",
       "version_major": 2,
       "version_minor": 0
      },
      "text/plain": [
       "interactive(children=(IntSlider(value=82, description='depth', max=165), Output()), _dom_classes=('widget-inte…"
      ]
     },
     "metadata": {},
     "output_type": "display_data"
    }
   ],
   "source": [
    "plot_single_image('T1Img/sub-05/T1w MRI.nii')"
   ]
  }
 ],
 "metadata": {
  "interpreter": {
   "hash": "0600588c3b5f4418cbe7b5ebc6825b479f3bc010269d8b60d75058cdd010adfe"
  },
  "kernelspec": {
   "display_name": "Python 3.7.5 64-bit",
   "name": "python3"
  },
  "language_info": {
   "codemirror_mode": {
    "name": "ipython",
    "version": 3
   },
   "file_extension": ".py",
   "mimetype": "text/x-python",
   "name": "python",
   "nbconvert_exporter": "python",
   "pygments_lexer": "ipython3",
   "version": "3.7.5"
  },
  "orig_nbformat": 4
 },
 "nbformat": 4,
 "nbformat_minor": 2
}