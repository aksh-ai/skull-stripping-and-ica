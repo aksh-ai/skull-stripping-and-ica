{
 "cells": [
  {
   "cell_type": "markdown",
   "id": "celtic-throw",
   "metadata": {},
   "source": [
    "# Inference \n",
    "\n",
    "This notebook is to run the inference using the infer script interactively\n",
    "\n",
    "## Necessary Imports"
   ]
  },
  {
   "cell_type": "code",
   "execution_count": 1,
   "id": "prescribed-history",
   "metadata": {},
   "outputs": [],
   "source": [
    "import os\n",
    "import subprocess\n",
    "from lib.utils import plot_single_image"
   ]
  },
  {
   "cell_type": "markdown",
   "id": "afraid-effects",
   "metadata": {},
   "source": [
    "Set input paths and output paths. Use the default parameters of the script for other arguments, refer `inference.py`"
   ]
  },
  {
   "cell_type": "code",
   "execution_count": 2,
   "id": "interracial-actress",
   "metadata": {},
   "outputs": [],
   "source": [
    "input_path = \"T1Img/sub-04/T1w MRI.nii\"\n",
    "output_path = \"sub-04_T1W_MRI_skull_stripped.nii.gz\""
   ]
  },
  {
   "cell_type": "markdown",
   "id": "proved-romance",
   "metadata": {},
   "source": [
    "Run the inference"
   ]
  },
  {
   "cell_type": "code",
   "execution_count": 3,
   "id": "invalid-underground",
   "metadata": {},
   "outputs": [
    {
     "data": {
      "text/plain": [
       "CompletedProcess(args=['python', 'inference.py', '-i', 'T1Img/sub-04/T1w MRI.nii', '-o', 'sub-04_T1W_MRI_skull_stripped.nii.gz'], returncode=0)"
      ]
     },
     "execution_count": 3,
     "metadata": {},
     "output_type": "execute_result"
    }
   ],
   "source": [
    "subprocess.run([\"python\", \"inference.py\", \"-i\", f\"{input_path}\",  \"-o\", f\"{output_path}\"])"
   ]
  },
  {
   "cell_type": "markdown",
   "id": "digital-miller",
   "metadata": {},
   "source": [
    "Visualize the skull-stripped image axis-wise using the `plot_single_image` utility function"
   ]
  },
  {
   "cell_type": "code",
   "execution_count": 4,
   "id": "operational-tuesday",
   "metadata": {},
   "outputs": [
    {
     "data": {
      "application/vnd.jupyter.widget-view+json": {
       "model_id": "b413fec6bf1d4bc1bb02899d17c381e6",
       "version_major": 2,
       "version_minor": 0
      },
      "text/plain": [
       "interactive(children=(IntSlider(value=87, description='depth', max=175), Output()), _dom_classes=('widget-inte…"
      ]
     },
     "metadata": {},
     "output_type": "display_data"
    }
   ],
   "source": [
    "plot_single_image(output_path, load=True, axis=0)"
   ]
  },
  {
   "cell_type": "code",
   "execution_count": 5,
   "id": "quantitative-bankruptcy",
   "metadata": {},
   "outputs": [
    {
     "data": {
      "application/vnd.jupyter.widget-view+json": {
       "model_id": "1cc8011fd7a7463eb5380d643ef9b7e9",
       "version_major": 2,
       "version_minor": 0
      },
      "text/plain": [
       "interactive(children=(IntSlider(value=87, description='depth', max=175), Output()), _dom_classes=('widget-inte…"
      ]
     },
     "metadata": {},
     "output_type": "display_data"
    }
   ],
   "source": [
    "plot_single_image(output_path, load=True, axis=1)"
   ]
  },
  {
   "cell_type": "code",
   "execution_count": 6,
   "id": "administrative-rolling",
   "metadata": {},
   "outputs": [
    {
     "data": {
      "application/vnd.jupyter.widget-view+json": {
       "model_id": "a36b6189f1ae4fd1b15b5ba87c1608a3",
       "version_major": 2,
       "version_minor": 0
      },
      "text/plain": [
       "interactive(children=(IntSlider(value=127, description='depth', max=255), Output()), _dom_classes=('widget-int…"
      ]
     },
     "metadata": {},
     "output_type": "display_data"
    }
   ],
   "source": [
    "plot_single_image(output_path, load=True, axis=2)"
   ]
  }
 ],
 "metadata": {
  "kernelspec": {
   "display_name": "Python 3",
   "language": "python",
   "name": "python3"
  },
  "language_info": {
   "codemirror_mode": {
    "name": "ipython",
    "version": 3
   },
   "file_extension": ".py",
   "mimetype": "text/x-python",
   "name": "python",
   "nbconvert_exporter": "python",
   "pygments_lexer": "ipython3",
   "version": "3.7.5"
  }
 },
 "nbformat": 4,
 "nbformat_minor": 5
}
