{
 "cells": [
  {
   "cell_type": "code",
   "execution_count": 1,
   "id": "selected-concept",
   "metadata": {},
   "outputs": [],
   "source": [
    "from lib.utils import *"
   ]
  },
  {
   "cell_type": "code",
   "execution_count": 2,
   "id": "opening-partner",
   "metadata": {},
   "outputs": [
    {
     "data": {
      "application/vnd.jupyter.widget-view+json": {
       "model_id": "e4e1966edefc444e8021e6dc28302348",
       "version_major": 2,
       "version_minor": 0
      },
      "text/plain": [
       "interactive(children=(IntSlider(value=82, description='depth', max=165), Output()), _dom_classes=('widget-inte…"
      ]
     },
     "metadata": {},
     "output_type": "display_data"
    }
   ],
   "source": [
    "plot_single_image(\"sub-05 - T1w MRI - skull stripped.nii.gz\", load=True)"
   ]
  },
  {
   "cell_type": "code",
   "execution_count": 11,
   "id": "alive-teddy",
   "metadata": {},
   "outputs": [],
   "source": [
    "import nibabel as nib"
   ]
  },
  {
   "cell_type": "code",
   "execution_count": 57,
   "id": "recent-antenna",
   "metadata": {},
   "outputs": [],
   "source": [
    "img = nib.load(\"sub-05 - T1w MRI - skull stripped.nii.gz\").get_fdata()"
   ]
  },
  {
   "cell_type": "code",
   "execution_count": 58,
   "id": "occupied-bottom",
   "metadata": {},
   "outputs": [],
   "source": [
    "img = ((img - img.min()) * (1/(img.max() - img.min()) * 255))"
   ]
  },
  {
   "cell_type": "code",
   "execution_count": 3,
   "id": "alpha-magnet",
   "metadata": {},
   "outputs": [],
   "source": [
    "import numpy as np"
   ]
  },
  {
   "cell_type": "code",
   "execution_count": 64,
   "id": "employed-nylon",
   "metadata": {},
   "outputs": [],
   "source": [
    "img = img[:, :, :, np.newaxis]\n",
    "bg = np.zeros_like(img)\n",
    "new_img = np.append(img, bg, axis=3)"
   ]
  },
  {
   "cell_type": "code",
   "execution_count": 67,
   "id": "conditional-surveillance",
   "metadata": {},
   "outputs": [
    {
     "data": {
      "application/vnd.jupyter.widget-view+json": {
       "model_id": "e4c96ecf23fd404e98e5e1ec4908d302",
       "version_major": 2,
       "version_minor": 0
      },
      "text/plain": [
       "interactive(children=(IntSlider(value=82, description='depth', max=165), Output()), _dom_classes=('widget-inte…"
      ]
     },
     "metadata": {},
     "output_type": "display_data"
    }
   ],
   "source": [
    "plot_single_image(new_img[:, :, :, 0])"
   ]
  }
 ],
 "metadata": {
  "kernelspec": {
   "display_name": "Python 3",
   "language": "python",
   "name": "python3"
  },
  "language_info": {
   "codemirror_mode": {
    "name": "ipython",
    "version": 3
   },
   "file_extension": ".py",
   "mimetype": "text/x-python",
   "name": "python",
   "nbconvert_exporter": "python",
   "pygments_lexer": "ipython3",
   "version": "3.7.5"
  }
 },
 "nbformat": 4,
 "nbformat_minor": 5
}
